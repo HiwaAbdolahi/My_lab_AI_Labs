{
 "cells": [
  {
   "cell_type": "code",
   "execution_count": 1,
   "id": "314917ff",
   "metadata": {},
   "outputs": [],
   "source": [
    "%matplotlib inline\n",
    "import pandas as pd\n",
    "import numpy as np\n",
    "import matplotlib.pyplot as plt\n",
    "import datetime"
   ]
  },
  {
   "cell_type": "code",
   "execution_count": 2,
   "id": "6ce2276e",
   "metadata": {},
   "outputs": [
    {
     "data": {
      "text/html": [
       "<div>\n",
       "<style scoped>\n",
       "    .dataframe tbody tr th:only-of-type {\n",
       "        vertical-align: middle;\n",
       "    }\n",
       "\n",
       "    .dataframe tbody tr th {\n",
       "        vertical-align: top;\n",
       "    }\n",
       "\n",
       "    .dataframe thead th {\n",
       "        text-align: right;\n",
       "    }\n",
       "</style>\n",
       "<table border=\"1\" class=\"dataframe\">\n",
       "  <thead>\n",
       "    <tr style=\"text-align: right;\">\n",
       "      <th></th>\n",
       "      <th>Unnamed: 0</th>\n",
       "      <th>datetime_val</th>\n",
       "      <th>dep_time</th>\n",
       "      <th>arr_time</th>\n",
       "      <th>sched_arr_time</th>\n",
       "      <th>flight</th>\n",
       "      <th>origin</th>\n",
       "      <th>dest</th>\n",
       "    </tr>\n",
       "  </thead>\n",
       "  <tbody>\n",
       "    <tr>\n",
       "      <th>0</th>\n",
       "      <td>0</td>\n",
       "      <td>2013-1-1 05:40:00</td>\n",
       "      <td>2013-1-1 05:42:00</td>\n",
       "      <td>2013-1-1 09:23:00</td>\n",
       "      <td>2013-1-1 08:50:00</td>\n",
       "      <td>1141</td>\n",
       "      <td>JFK</td>\n",
       "      <td>MIA</td>\n",
       "    </tr>\n",
       "    <tr>\n",
       "      <th>1</th>\n",
       "      <td>1</td>\n",
       "      <td>2013-1-1 06:00:00</td>\n",
       "      <td>2013-1-1 05:54:00</td>\n",
       "      <td>2013-1-1 08:12:00</td>\n",
       "      <td>2013-1-1 08:37:00</td>\n",
       "      <td>461</td>\n",
       "      <td>LGA</td>\n",
       "      <td>ATL</td>\n",
       "    </tr>\n",
       "    <tr>\n",
       "      <th>2</th>\n",
       "      <td>2</td>\n",
       "      <td>2013-1-1 05:58:00</td>\n",
       "      <td>2013-1-1 05:54:00</td>\n",
       "      <td>2013-1-1 07:40:00</td>\n",
       "      <td>2013-1-1 07:28:00</td>\n",
       "      <td>1696</td>\n",
       "      <td>EWR</td>\n",
       "      <td>ORD</td>\n",
       "    </tr>\n",
       "  </tbody>\n",
       "</table>\n",
       "</div>"
      ],
      "text/plain": [
       "   Unnamed: 0       datetime_val           dep_time           arr_time  \\\n",
       "0           0  2013-1-1 05:40:00  2013-1-1 05:42:00  2013-1-1 09:23:00   \n",
       "1           1  2013-1-1 06:00:00  2013-1-1 05:54:00  2013-1-1 08:12:00   \n",
       "2           2  2013-1-1 05:58:00  2013-1-1 05:54:00  2013-1-1 07:40:00   \n",
       "\n",
       "      sched_arr_time  flight origin dest  \n",
       "0  2013-1-1 08:50:00    1141    JFK  MIA  \n",
       "1  2013-1-1 08:37:00     461    LGA  ATL  \n",
       "2  2013-1-1 07:28:00    1696    EWR  ORD  "
      ]
     },
     "execution_count": 2,
     "metadata": {},
     "output_type": "execute_result"
    }
   ],
   "source": [
    "url = \"https://raw.githubusercontent.com/atikagondal/Lab-2023-DAVE3625/main/Lab3/data/flight.csv\"\n",
    "\n",
    "df = pd.read_csv(url)\n",
    "df.head(3)"
   ]
  },
  {
   "cell_type": "code",
   "execution_count": 3,
   "id": "29113ead",
   "metadata": {},
   "outputs": [],
   "source": [
    "# Konverter kolonnen dep_time til datotype datetime, og ignorer feilmeldinger ('coerce')\n",
    "df['dep_time'] = pd.to_datetime(df['dep_time'], format='%Y-%m-%d %H:%M:%S', errors='coerce')\n",
    "\n",
    "# Konverter kolonnen datetime_val til datotype datetime\n",
    "df['datetime_val'] = pd.to_datetime(df['datetime_val'], format='%Y-%m-%d %H:%M:%S', errors='coerce')\n",
    "\n",
    "# Gjør det samme for arr_time og sched_arr_time\n",
    "df['arr_time'] = pd.to_datetime(df['arr_time'], format='%Y-%m-%d %H:%M:%S', errors='coerce')\n",
    "df['sched_arr_time'] = pd.to_datetime(df['sched_arr_time'], format='%Y-%m-%d %H:%M:%S', errors='coerce')\n"
   ]
  },
  {
   "cell_type": "code",
   "execution_count": 4,
   "id": "1496d148",
   "metadata": {},
   "outputs": [
    {
     "name": "stdout",
     "output_type": "stream",
     "text": [
      "<class 'pandas.core.frame.DataFrame'>\n",
      "RangeIndex: 121427 entries, 0 to 121426\n",
      "Data columns (total 8 columns):\n",
      " #   Column          Non-Null Count   Dtype         \n",
      "---  ------          --------------   -----         \n",
      " 0   Unnamed: 0      121427 non-null  int64         \n",
      " 1   datetime_val    121427 non-null  datetime64[ns]\n",
      " 2   dep_time        121421 non-null  datetime64[ns]\n",
      " 3   arr_time        121379 non-null  datetime64[ns]\n",
      " 4   sched_arr_time  121427 non-null  datetime64[ns]\n",
      " 5   flight          121427 non-null  int64         \n",
      " 6   origin          121427 non-null  object        \n",
      " 7   dest            121427 non-null  object        \n",
      "dtypes: datetime64[ns](4), int64(2), object(2)\n",
      "memory usage: 7.4+ MB\n"
     ]
    }
   ],
   "source": [
    "df.info()"
   ]
  },
  {
   "cell_type": "code",
   "execution_count": 5,
   "id": "c4c9fa66",
   "metadata": {},
   "outputs": [
    {
     "data": {
      "text/html": [
       "<div>\n",
       "<style scoped>\n",
       "    .dataframe tbody tr th:only-of-type {\n",
       "        vertical-align: middle;\n",
       "    }\n",
       "\n",
       "    .dataframe tbody tr th {\n",
       "        vertical-align: top;\n",
       "    }\n",
       "\n",
       "    .dataframe thead th {\n",
       "        text-align: right;\n",
       "    }\n",
       "</style>\n",
       "<table border=\"1\" class=\"dataframe\">\n",
       "  <thead>\n",
       "    <tr style=\"text-align: right;\">\n",
       "      <th></th>\n",
       "      <th>Unnamed: 0</th>\n",
       "      <th>datetime_val</th>\n",
       "      <th>dep_time</th>\n",
       "      <th>arr_time</th>\n",
       "      <th>sched_arr_time</th>\n",
       "      <th>flight</th>\n",
       "      <th>origin</th>\n",
       "      <th>dest</th>\n",
       "      <th>air_time</th>\n",
       "      <th>Delay</th>\n",
       "    </tr>\n",
       "  </thead>\n",
       "  <tbody>\n",
       "    <tr>\n",
       "      <th>0</th>\n",
       "      <td>0</td>\n",
       "      <td>2013-01-01 05:40:00</td>\n",
       "      <td>2013-01-01 05:42:00</td>\n",
       "      <td>2013-01-01 09:23:00</td>\n",
       "      <td>2013-01-01 08:50:00</td>\n",
       "      <td>1141</td>\n",
       "      <td>JFK</td>\n",
       "      <td>MIA</td>\n",
       "      <td>0 days 03:41:00</td>\n",
       "      <td>0 days 00:33:00</td>\n",
       "    </tr>\n",
       "    <tr>\n",
       "      <th>1</th>\n",
       "      <td>1</td>\n",
       "      <td>2013-01-01 06:00:00</td>\n",
       "      <td>2013-01-01 05:54:00</td>\n",
       "      <td>2013-01-01 08:12:00</td>\n",
       "      <td>2013-01-01 08:37:00</td>\n",
       "      <td>461</td>\n",
       "      <td>LGA</td>\n",
       "      <td>ATL</td>\n",
       "      <td>0 days 02:18:00</td>\n",
       "      <td>-1 days +23:35:00</td>\n",
       "    </tr>\n",
       "    <tr>\n",
       "      <th>2</th>\n",
       "      <td>2</td>\n",
       "      <td>2013-01-01 05:58:00</td>\n",
       "      <td>2013-01-01 05:54:00</td>\n",
       "      <td>2013-01-01 07:40:00</td>\n",
       "      <td>2013-01-01 07:28:00</td>\n",
       "      <td>1696</td>\n",
       "      <td>EWR</td>\n",
       "      <td>ORD</td>\n",
       "      <td>0 days 01:46:00</td>\n",
       "      <td>0 days 00:12:00</td>\n",
       "    </tr>\n",
       "    <tr>\n",
       "      <th>3</th>\n",
       "      <td>3</td>\n",
       "      <td>2013-01-01 06:00:00</td>\n",
       "      <td>2013-01-01 05:55:00</td>\n",
       "      <td>2013-01-01 09:13:00</td>\n",
       "      <td>2013-01-01 08:54:00</td>\n",
       "      <td>507</td>\n",
       "      <td>EWR</td>\n",
       "      <td>FLL</td>\n",
       "      <td>0 days 03:18:00</td>\n",
       "      <td>0 days 00:19:00</td>\n",
       "    </tr>\n",
       "    <tr>\n",
       "      <th>4</th>\n",
       "      <td>4</td>\n",
       "      <td>2013-01-01 06:00:00</td>\n",
       "      <td>2013-01-01 05:57:00</td>\n",
       "      <td>2013-01-01 08:38:00</td>\n",
       "      <td>2013-01-01 08:46:00</td>\n",
       "      <td>79</td>\n",
       "      <td>JFK</td>\n",
       "      <td>MCO</td>\n",
       "      <td>0 days 02:41:00</td>\n",
       "      <td>-1 days +23:52:00</td>\n",
       "    </tr>\n",
       "  </tbody>\n",
       "</table>\n",
       "</div>"
      ],
      "text/plain": [
       "   Unnamed: 0        datetime_val            dep_time            arr_time  \\\n",
       "0           0 2013-01-01 05:40:00 2013-01-01 05:42:00 2013-01-01 09:23:00   \n",
       "1           1 2013-01-01 06:00:00 2013-01-01 05:54:00 2013-01-01 08:12:00   \n",
       "2           2 2013-01-01 05:58:00 2013-01-01 05:54:00 2013-01-01 07:40:00   \n",
       "3           3 2013-01-01 06:00:00 2013-01-01 05:55:00 2013-01-01 09:13:00   \n",
       "4           4 2013-01-01 06:00:00 2013-01-01 05:57:00 2013-01-01 08:38:00   \n",
       "\n",
       "       sched_arr_time  flight origin dest        air_time             Delay  \n",
       "0 2013-01-01 08:50:00    1141    JFK  MIA 0 days 03:41:00   0 days 00:33:00  \n",
       "1 2013-01-01 08:37:00     461    LGA  ATL 0 days 02:18:00 -1 days +23:35:00  \n",
       "2 2013-01-01 07:28:00    1696    EWR  ORD 0 days 01:46:00   0 days 00:12:00  \n",
       "3 2013-01-01 08:54:00     507    EWR  FLL 0 days 03:18:00   0 days 00:19:00  \n",
       "4 2013-01-01 08:46:00      79    JFK  MCO 0 days 02:41:00 -1 days +23:52:00  "
      ]
     },
     "execution_count": 5,
     "metadata": {},
     "output_type": "execute_result"
    }
   ],
   "source": [
    "# Beregn air_time som er tiden mellom dep_time og arr_time\n",
    "df['air_time'] = df['arr_time'] - df['dep_time']\n",
    "\n",
    "\n",
    "#Delay (forsinkelsen mellom arr_time og sched_arr_time):\n",
    "df['Delay'] = df['arr_time'] - df['sched_arr_time']\n",
    "\n",
    "\n",
    "df.head()"
   ]
  },
  {
   "cell_type": "code",
   "execution_count": null,
   "id": "3366ea45",
   "metadata": {},
   "outputs": [],
   "source": [
    "# For hver rad i dataframe df\n",
    "for index, row in df.iterrows():\n",
    "    # Sjekk om air_time er negativ (dager er mindre enn 0)\n",
    "    if row['air_time'].days < 0:\n",
    "        # Beregn den korrigerte air_time ved å trekke den negative air_time fra 24 timer\n",
    "        corrected_air_time = datetime.timedelta(hours=24) - (row['air_time'] + datetime.timedelta(days=abs(row['air_time'].days)))\n",
    "        # Oppdater verdien i dataframe med den korrigerte verdien\n",
    "        df.loc[index, 'air_time'] = corrected_air_time\n",
    "\n",
    "\n",
    "\n",
    "\n",
    "\n"
   ]
  },
  {
   "cell_type": "code",
   "execution_count": null,
   "id": "ccc552a7",
   "metadata": {},
   "outputs": [],
   "source": [
    "#Delay as a percent of air time (forsinkelse som prosent av air_time):\n",
    "df['Delay_as_percent_of_air_time'] = (df['Delay'].dt.total_seconds() / df['air_time'].dt.total_seconds()) * 100\n",
    "df.head()"
   ]
  },
  {
   "cell_type": "code",
   "execution_count": null,
   "id": "3a969c58",
   "metadata": {},
   "outputs": [],
   "source": [
    "# Beregn forsinkelsen som en prosentandel av air_time\n",
    "df['percent_delay'] = (df['Delay'].dt.total_seconds() / df['air_time'].dt.total_seconds()) * 100\n"
   ]
  },
  {
   "cell_type": "code",
   "execution_count": null,
   "id": "237135f0",
   "metadata": {},
   "outputs": [],
   "source": [
    "df.head()"
   ]
  },
  {
   "cell_type": "code",
   "execution_count": null,
   "id": "4c16214f",
   "metadata": {},
   "outputs": [],
   "source": [
    "df[\"percent_delay\"].plot.box()"
   ]
  },
  {
   "cell_type": "code",
   "execution_count": null,
   "id": "d86aba49",
   "metadata": {},
   "outputs": [],
   "source": [
    "minrow= df['percent_delay'].argmin()"
   ]
  },
  {
   "cell_type": "code",
   "execution_count": null,
   "id": "0634edf8",
   "metadata": {},
   "outputs": [],
   "source": [
    "df.iloc[minrow]"
   ]
  },
  {
   "cell_type": "code",
   "execution_count": null,
   "id": "1eba7661",
   "metadata": {
    "scrolled": true
   },
   "outputs": [],
   "source": [
    "df[\"percent_delay\"].plot.box()\n"
   ]
  },
  {
   "cell_type": "code",
   "execution_count": null,
   "id": "be9d9d1d",
   "metadata": {},
   "outputs": [],
   "source": [
    "df[\"percent_delay\"].describe()"
   ]
  },
  {
   "cell_type": "code",
   "execution_count": null,
   "id": "0dfa1211",
   "metadata": {},
   "outputs": [],
   "source": [
    "from pandas.api.types import is_numeric_dtype\n",
    "\n",
    "def remove_outlier(df):\n",
    "    low = 0.05\n",
    "    high = 0.95\n",
    "    quant_df = df.quantile([low, high])\n",
    "    if is_numeric_dtype(df):\n",
    "        df = df[(df >= quant_df.loc[low]) & (df <= quant_df.loc[high])]\n",
    "    return df\n",
    "\n",
    "# Bruk funksjonen på percent_delay-kolonnen\n",
    "df[\"percent_delay\"] = remove_outlier(df[\"percent_delay\"])\n"
   ]
  },
  {
   "cell_type": "code",
   "execution_count": null,
   "id": "5d20c97d",
   "metadata": {},
   "outputs": [],
   "source": [
    "import matplotlib.pyplot as plt\n",
    "\n",
    "# Plot boksdiagram for percent_delay-kolonnen\n",
    "plt.figure(figsize=(8, 6))\n",
    "df[\"percent_delay\"].plot.box()\n",
    "plt.title(\"Box Plot of Percent Delay\")\n",
    "plt.show()\n",
    "\n",
    "# Bruk describe for å se statistiske opplysninger\n",
    "print(df[\"percent_delay\"].describe())"
   ]
  },
  {
   "cell_type": "code",
   "execution_count": null,
   "id": "15f143d1",
   "metadata": {},
   "outputs": [],
   "source": []
  },
  {
   "cell_type": "code",
   "execution_count": null,
   "id": "aa60b33d",
   "metadata": {},
   "outputs": [],
   "source": []
  },
  {
   "cell_type": "code",
   "execution_count": null,
   "id": "f687a0ff",
   "metadata": {},
   "outputs": [],
   "source": []
  },
  {
   "cell_type": "code",
   "execution_count": null,
   "id": "914d83a1",
   "metadata": {},
   "outputs": [],
   "source": []
  },
  {
   "cell_type": "code",
   "execution_count": null,
   "id": "fbb8dc38",
   "metadata": {},
   "outputs": [],
   "source": []
  }
 ],
 "metadata": {
  "kernelspec": {
   "display_name": "Python 3 (ipykernel)",
   "language": "python",
   "name": "python3"
  },
  "language_info": {
   "codemirror_mode": {
    "name": "ipython",
    "version": 3
   },
   "file_extension": ".py",
   "mimetype": "text/x-python",
   "name": "python",
   "nbconvert_exporter": "python",
   "pygments_lexer": "ipython3",
   "version": "3.8.18"
  }
 },
 "nbformat": 4,
 "nbformat_minor": 5
}
