{
 "cells": [
  {
   "cell_type": "code",
   "execution_count": 13,
   "id": "168a6af4",
   "metadata": {},
   "outputs": [],
   "source": [
    "from faker import Faker\n",
    "import pandas as pd\n",
    "#from laundromat.spacy.spacy_model import SpacyModel not working I try everything\n",
    "from faker.providers.credit_card import Provider as CreditCardProvider ##Add creditcards to faker"
   ]
  },
  {
   "cell_type": "code",
   "execution_count": 14,
   "id": "4782b3c9",
   "metadata": {},
   "outputs": [
    {
     "data": {
      "text/plain": [
       "('Martin-Tommy Bakke',\n",
       " 'Bakkenvollen 583, 3938 Lisedal',\n",
       " '12039707088',\n",
       " '30049942792194',\n",
       " '195.149.2.0')"
      ]
     },
     "execution_count": 14,
     "metadata": {},
     "output_type": "execute_result"
    }
   ],
   "source": [
    "fake = Faker(['no_NO']) #create a faker with norwgian Name and structures\n",
    "\n",
    "#faker calls you will need:\n",
    "fake.name(),fake.address(),fake.ssn(),fake.credit_card_number(),fake.ipv4()"
   ]
  },
  {
   "cell_type": "code",
   "execution_count": 15,
   "id": "d9bccd53",
   "metadata": {},
   "outputs": [
    {
     "data": {
      "text/html": [
       "<div>\n",
       "<style scoped>\n",
       "    .dataframe tbody tr th:only-of-type {\n",
       "        vertical-align: middle;\n",
       "    }\n",
       "\n",
       "    .dataframe tbody tr th {\n",
       "        vertical-align: top;\n",
       "    }\n",
       "\n",
       "    .dataframe thead th {\n",
       "        text-align: right;\n",
       "    }\n",
       "</style>\n",
       "<table border=\"1\" class=\"dataframe\">\n",
       "  <thead>\n",
       "    <tr style=\"text-align: right;\">\n",
       "      <th></th>\n",
       "      <th>Navn</th>\n",
       "      <th>Adresse</th>\n",
       "      <th>PersonNr</th>\n",
       "      <th>CreditCard</th>\n",
       "      <th>ipv4</th>\n",
       "    </tr>\n",
       "  </thead>\n",
       "  <tbody>\n",
       "  </tbody>\n",
       "</table>\n",
       "</div>"
      ],
      "text/plain": [
       "Empty DataFrame\n",
       "Columns: [Navn, Adresse, PersonNr, CreditCard, ipv4]\n",
       "Index: []"
      ]
     },
     "execution_count": 15,
     "metadata": {},
     "output_type": "execute_result"
    }
   ],
   "source": [
    "#create a empty data frame \n",
    "\n",
    "df = pd.DataFrame(columns=['Navn','Adresse', 'PersonNr','CreditCard','ipv4']) \n",
    "df"
   ]
  },
  {
   "cell_type": "code",
   "execution_count": 16,
   "id": "3356634b",
   "metadata": {},
   "outputs": [],
   "source": [
    "#how to add data to a data frame in a for loop:\n",
    "# \n",
    "for _ in range(100):  # Opprett 100 faker-personer\n",
    "    name = fake.name()\n",
    "    address = fake.address()\n",
    "    ssn = fake.ssn()\n",
    "    credit_card_number = fake.credit_card_number()\n",
    "    ipv4 = fake.ipv4()\n",
    "\n",
    "    # Legg til data i DataFrame\n",
    "    df.loc[len(df)] = [name, address, ssn, credit_card_number, ipv4]"
   ]
  },
  {
   "cell_type": "code",
   "execution_count": 8,
   "id": "b43c9ec4",
   "metadata": {},
   "outputs": [
    {
     "data": {
      "text/html": [
       "<div>\n",
       "<style scoped>\n",
       "    .dataframe tbody tr th:only-of-type {\n",
       "        vertical-align: middle;\n",
       "    }\n",
       "\n",
       "    .dataframe tbody tr th {\n",
       "        vertical-align: top;\n",
       "    }\n",
       "\n",
       "    .dataframe thead th {\n",
       "        text-align: right;\n",
       "    }\n",
       "</style>\n",
       "<table border=\"1\" class=\"dataframe\">\n",
       "  <thead>\n",
       "    <tr style=\"text-align: right;\">\n",
       "      <th></th>\n",
       "      <th>Navn</th>\n",
       "      <th>Adresse</th>\n",
       "      <th>PersonNr</th>\n",
       "      <th>CreditCard</th>\n",
       "      <th>ipv4</th>\n",
       "    </tr>\n",
       "  </thead>\n",
       "  <tbody>\n",
       "    <tr>\n",
       "      <th>0</th>\n",
       "      <td>Adrian Svendsen</td>\n",
       "      <td>Jensenberget 36, 1130 Siljeodden</td>\n",
       "      <td>04055027051</td>\n",
       "      <td>630473734014</td>\n",
       "      <td>102.193.192.190</td>\n",
       "    </tr>\n",
       "    <tr>\n",
       "      <th>1</th>\n",
       "      <td>Unni Larsen</td>\n",
       "      <td>Arnesenekra 7, 8657 Ingerstrøm</td>\n",
       "      <td>28063947158</td>\n",
       "      <td>3534806860133627</td>\n",
       "      <td>144.48.222.169</td>\n",
       "    </tr>\n",
       "    <tr>\n",
       "      <th>2</th>\n",
       "      <td>Magnus Eriksen</td>\n",
       "      <td>Halvorsengropa 3H, 6010 Arnehamn</td>\n",
       "      <td>21024938740</td>\n",
       "      <td>6515901224100101</td>\n",
       "      <td>191.183.246.138</td>\n",
       "    </tr>\n",
       "  </tbody>\n",
       "</table>\n",
       "</div>"
      ],
      "text/plain": [
       "              Navn                           Adresse     PersonNr  \\\n",
       "0  Adrian Svendsen  Jensenberget 36, 1130 Siljeodden  04055027051   \n",
       "1      Unni Larsen    Arnesenekra 7, 8657 Ingerstrøm  28063947158   \n",
       "2   Magnus Eriksen  Halvorsengropa 3H, 6010 Arnehamn  21024938740   \n",
       "\n",
       "         CreditCard             ipv4  \n",
       "0      630473734014  102.193.192.190  \n",
       "1  3534806860133627   144.48.222.169  \n",
       "2  6515901224100101  191.183.246.138  "
      ]
     },
     "execution_count": 8,
     "metadata": {},
     "output_type": "execute_result"
    }
   ],
   "source": [
    "df.head(3)"
   ]
  },
  {
   "cell_type": "code",
   "execution_count": null,
   "id": "ea70014a",
   "metadata": {},
   "outputs": [],
   "source": []
  },
  {
   "cell_type": "code",
   "execution_count": null,
   "id": "aab4c51c",
   "metadata": {},
   "outputs": [],
   "source": []
  },
  {
   "cell_type": "code",
   "execution_count": null,
   "id": "0ac82a4e",
   "metadata": {},
   "outputs": [],
   "source": []
  }
 ],
 "metadata": {
  "kernelspec": {
   "display_name": "Python 3 (ipykernel)",
   "language": "python",
   "name": "python3"
  },
  "language_info": {
   "codemirror_mode": {
    "name": "ipython",
    "version": 3
   },
   "file_extension": ".py",
   "mimetype": "text/x-python",
   "name": "python",
   "nbconvert_exporter": "python",
   "pygments_lexer": "ipython3",
   "version": "3.8.18"
  }
 },
 "nbformat": 4,
 "nbformat_minor": 5
}
