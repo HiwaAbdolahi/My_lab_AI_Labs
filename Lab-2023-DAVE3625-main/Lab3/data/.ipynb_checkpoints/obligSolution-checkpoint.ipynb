{
 "cells": [
  {
   "cell_type": "code",
   "execution_count": 10,
   "id": "168a6af4",
   "metadata": {},
   "outputs": [],
   "source": [
    "from faker import Faker\n",
    "import pandas as pd\n",
    "from laundromat.spacy.spacy_model import SpacyModel\n",
    "from faker.providers.credit_card import Provider as CreditCardProvider ##Add creditcards to faker"
   ]
  },
  {
   "cell_type": "code",
   "execution_count": 11,
   "id": "4782b3c9",
   "metadata": {},
   "outputs": [
    {
     "data": {
      "text/plain": [
       "('Odd Ødegård',\n",
       " 'Kristensenrøa 34, 3964 Bøe',\n",
       " '21067204163',\n",
       " '30545540048863',\n",
       " '75.106.145.241')"
      ]
     },
     "execution_count": 11,
     "metadata": {},
     "output_type": "execute_result"
    }
   ],
   "source": [
    "fake = Faker(['no_NO']) #create a faker with norwgian Name and structures\n",
    "\n",
    "#faker calls you will need:\n",
    "fake.name(),fake.address(),fake.ssn(),fake.credit_card_number(),fake.ipv4()"
   ]
  },
  {
   "cell_type": "code",
   "execution_count": 13,
   "id": "d9bccd53",
   "metadata": {},
   "outputs": [
    {
     "data": {
      "text/html": [
       "<div>\n",
       "<style scoped>\n",
       "    .dataframe tbody tr th:only-of-type {\n",
       "        vertical-align: middle;\n",
       "    }\n",
       "\n",
       "    .dataframe tbody tr th {\n",
       "        vertical-align: top;\n",
       "    }\n",
       "\n",
       "    .dataframe thead th {\n",
       "        text-align: right;\n",
       "    }\n",
       "</style>\n",
       "<table border=\"1\" class=\"dataframe\">\n",
       "  <thead>\n",
       "    <tr style=\"text-align: right;\">\n",
       "      <th></th>\n",
       "      <th>Navn</th>\n",
       "      <th>Adresse</th>\n",
       "      <th>PersonNr</th>\n",
       "      <th>CreditCard</th>\n",
       "      <th>ipv4</th>\n",
       "    </tr>\n",
       "  </thead>\n",
       "  <tbody>\n",
       "  </tbody>\n",
       "</table>\n",
       "</div>"
      ],
      "text/plain": [
       "Empty DataFrame\n",
       "Columns: [Navn, Adresse, PersonNr, CreditCard, ipv4]\n",
       "Index: []"
      ]
     },
     "execution_count": 13,
     "metadata": {},
     "output_type": "execute_result"
    }
   ],
   "source": [
    "#create a empty data frame \n",
    "\n",
    "df = pd.DataFrame(columns=['Navn','Adresse', 'PersonNr','CreditCard','ipv4']) \n",
    "df"
   ]
  },
  {
   "cell_type": "code",
   "execution_count": 14,
   "id": "3356634b",
   "metadata": {},
   "outputs": [],
   "source": [
    "#how to add data to a data frame in a for loop:\n",
    "# \n",
    "for _ in range(100):  # Opprett 100 faker-personer\n",
    "    name = fake.name()\n",
    "    address = fake.address()\n",
    "    ssn = fake.ssn()\n",
    "    credit_card_number = fake.credit_card_number()\n",
    "    ipv4 = fake.ipv4()\n",
    "\n",
    "    # Legg til data i DataFrame\n",
    "    df.loc[len(df)] = [name, address, ssn, credit_card_number, ipv4]"
   ]
  },
  {
   "cell_type": "code",
   "execution_count": 16,
   "id": "b43c9ec4",
   "metadata": {},
   "outputs": [
    {
     "data": {
      "text/html": [
       "<div>\n",
       "<style scoped>\n",
       "    .dataframe tbody tr th:only-of-type {\n",
       "        vertical-align: middle;\n",
       "    }\n",
       "\n",
       "    .dataframe tbody tr th {\n",
       "        vertical-align: top;\n",
       "    }\n",
       "\n",
       "    .dataframe thead th {\n",
       "        text-align: right;\n",
       "    }\n",
       "</style>\n",
       "<table border=\"1\" class=\"dataframe\">\n",
       "  <thead>\n",
       "    <tr style=\"text-align: right;\">\n",
       "      <th></th>\n",
       "      <th>Navn</th>\n",
       "      <th>Adresse</th>\n",
       "      <th>PersonNr</th>\n",
       "      <th>CreditCard</th>\n",
       "      <th>ipv4</th>\n",
       "    </tr>\n",
       "  </thead>\n",
       "  <tbody>\n",
       "    <tr>\n",
       "      <th>0</th>\n",
       "      <td>Marte Johnsen-Rasmussen</td>\n",
       "      <td>Kristensenvika 89, 4143 Idafjell</td>\n",
       "      <td>10087742259</td>\n",
       "      <td>2707353797662827</td>\n",
       "      <td>126.239.113.171</td>\n",
       "    </tr>\n",
       "    <tr>\n",
       "      <th>1</th>\n",
       "      <td>Erik Solheim</td>\n",
       "      <td>Arnesenlia 49, 2199 Bøe</td>\n",
       "      <td>22127436464</td>\n",
       "      <td>4489448158334766</td>\n",
       "      <td>83.25.116.78</td>\n",
       "    </tr>\n",
       "    <tr>\n",
       "      <th>2</th>\n",
       "      <td>Karen-Eli Fredriksen</td>\n",
       "      <td>Gundersenvika 74, 1224 Kennethstad</td>\n",
       "      <td>02058342907</td>\n",
       "      <td>2247039341054184</td>\n",
       "      <td>56.198.50.151</td>\n",
       "    </tr>\n",
       "  </tbody>\n",
       "</table>\n",
       "</div>"
      ],
      "text/plain": [
       "                      Navn                             Adresse     PersonNr  \\\n",
       "0  Marte Johnsen-Rasmussen    Kristensenvika 89, 4143 Idafjell  10087742259   \n",
       "1             Erik Solheim             Arnesenlia 49, 2199 Bøe  22127436464   \n",
       "2     Karen-Eli Fredriksen  Gundersenvika 74, 1224 Kennethstad  02058342907   \n",
       "\n",
       "         CreditCard             ipv4  \n",
       "0  2707353797662827  126.239.113.171  \n",
       "1  4489448158334766     83.25.116.78  \n",
       "2  2247039341054184    56.198.50.151  "
      ]
     },
     "execution_count": 16,
     "metadata": {},
     "output_type": "execute_result"
    }
   ],
   "source": [
    "df.head(3)"
   ]
  },
  {
   "cell_type": "code",
   "execution_count": 18,
   "id": "ea70014a",
   "metadata": {},
   "outputs": [
    {
     "ename": "NameError",
     "evalue": "name 'SpacyModel' is not defined",
     "output_type": "error",
     "traceback": [
      "\u001b[1;31m---------------------------------------------------------------------------\u001b[0m",
      "\u001b[1;31mNameError\u001b[0m                                 Traceback (most recent call last)",
      "Cell \u001b[1;32mIn[18], line 2\u001b[0m\n\u001b[0;32m      1\u001b[0m \u001b[38;5;66;03m# Opprett en SpacyModel\u001b[39;00m\n\u001b[1;32m----> 2\u001b[0m nlp \u001b[38;5;241m=\u001b[39m \u001b[43mSpacyModel\u001b[49m()\n\u001b[0;32m      3\u001b[0m textArray \u001b[38;5;241m=\u001b[39m []  \u001b[38;5;66;03m# Lag en liste med tekststrenger som du vil anonymisere\u001b[39;00m\n\u001b[0;32m      5\u001b[0m \u001b[38;5;66;03m# Utfør en for-løkke og tilordne verdier til name og adress\u001b[39;00m\n",
      "\u001b[1;31mNameError\u001b[0m: name 'SpacyModel' is not defined"
     ]
    }
   ],
   "source": [
    "# Opprett en SpacyModel\n",
    "nlp = SpacyModel()\n",
    "textArray = []  # Lag en liste med tekststrenger som du vil anonymisere\n",
    "\n",
    "# Utfør en for-løkke og tilordne verdier til name og adress\n",
    "for index, row in df.iterrows():\n",
    "    name = row[0] \n",
    "    address = row[1]\n",
    "    ssn = row[2]\n",
    "    cc = row[3]\n",
    "    # Bruk f-streng for å opprette en ny tekststreng med verdiene, og\n",
    "    # legg til denne strengen i textArray\n",
    "    textArray.append(f'Hi, my name is {name}. I wonder if you deliver to {address}. My credit card nr is {cc} and my ssn is {ssn}')"
   ]
  },
  {
   "cell_type": "code",
   "execution_count": null,
   "id": "aab4c51c",
   "metadata": {},
   "outputs": [],
   "source": [
    "# Loop gjennom tekstene og bruk Laundromat for å erstatte personlig informasjon med \"entity\"\n",
    "for line in textArray:\n",
    "    entities = nlp.predict(line)\n",
    "    replaced_text_1 = nlp.replace(line, replacement=\"entity\", replacement_char=\":^)\")\n",
    "    print(line)\n",
    "    print(replaced_text_1 + '\\n')"
   ]
  }
 ],
 "metadata": {
  "kernelspec": {
   "display_name": "Python 3 (ipykernel)",
   "language": "python",
   "name": "python3"
  },
  "language_info": {
   "codemirror_mode": {
    "name": "ipython",
    "version": 3
   },
   "file_extension": ".py",
   "mimetype": "text/x-python",
   "name": "python",
   "nbconvert_exporter": "python",
   "pygments_lexer": "ipython3",
   "version": "3.8.18"
  }
 },
 "nbformat": 4,
 "nbformat_minor": 5
}
