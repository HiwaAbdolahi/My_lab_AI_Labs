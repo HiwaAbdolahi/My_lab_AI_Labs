{
 "cells": [
  {
   "cell_type": "code",
   "execution_count": null,
   "id": "5984626b",
   "metadata": {},
   "outputs": [],
   "source": []
  },
  {
   "cell_type": "code",
   "execution_count": 368,
   "id": "e00a7123",
   "metadata": {},
   "outputs": [],
   "source": [
    "import pandas as pd\n",
    "import datetime as dt\n",
    "from sklearn import linear_model\n",
    "from sklearn.model_selection import train_test_split\n",
    "from sklearn.metrics import mean_squared_error, r2_score\n",
    "import matplotlib.pyplot as plt"
   ]
  },
  {
   "cell_type": "code",
   "execution_count": null,
   "id": "48783c38",
   "metadata": {},
   "outputs": [],
   "source": [
    "\n"
   ]
  },
  {
   "cell_type": "code",
   "execution_count": 369,
   "id": "666b0f98",
   "metadata": {},
   "outputs": [
    {
     "data": {
      "text/html": [
       "<div>\n",
       "<style scoped>\n",
       "    .dataframe tbody tr th:only-of-type {\n",
       "        vertical-align: middle;\n",
       "    }\n",
       "\n",
       "    .dataframe tbody tr th {\n",
       "        vertical-align: top;\n",
       "    }\n",
       "\n",
       "    .dataframe thead th {\n",
       "        text-align: right;\n",
       "    }\n",
       "</style>\n",
       "<table border=\"1\" class=\"dataframe\">\n",
       "  <thead>\n",
       "    <tr style=\"text-align: right;\">\n",
       "      <th></th>\n",
       "      <th>Date</th>\n",
       "      <th>Open</th>\n",
       "      <th>High</th>\n",
       "      <th>Low</th>\n",
       "      <th>Close</th>\n",
       "      <th>Adj Close</th>\n",
       "      <th>Volume</th>\n",
       "    </tr>\n",
       "  </thead>\n",
       "  <tbody>\n",
       "    <tr>\n",
       "      <th>0</th>\n",
       "      <td>2010-06-30</td>\n",
       "      <td>1.719333</td>\n",
       "      <td>2.028000</td>\n",
       "      <td>1.553333</td>\n",
       "      <td>1.588667</td>\n",
       "      <td>1.588667</td>\n",
       "      <td>257806500</td>\n",
       "    </tr>\n",
       "    <tr>\n",
       "      <th>1</th>\n",
       "      <td>2010-07-01</td>\n",
       "      <td>1.666667</td>\n",
       "      <td>1.728000</td>\n",
       "      <td>1.351333</td>\n",
       "      <td>1.464000</td>\n",
       "      <td>1.464000</td>\n",
       "      <td>123282000</td>\n",
       "    </tr>\n",
       "    <tr>\n",
       "      <th>2</th>\n",
       "      <td>2010-07-02</td>\n",
       "      <td>1.533333</td>\n",
       "      <td>1.540000</td>\n",
       "      <td>1.247333</td>\n",
       "      <td>1.280000</td>\n",
       "      <td>1.280000</td>\n",
       "      <td>77097000</td>\n",
       "    </tr>\n",
       "    <tr>\n",
       "      <th>3</th>\n",
       "      <td>2010-07-06</td>\n",
       "      <td>1.333333</td>\n",
       "      <td>1.333333</td>\n",
       "      <td>1.055333</td>\n",
       "      <td>1.074000</td>\n",
       "      <td>1.074000</td>\n",
       "      <td>103003500</td>\n",
       "    </tr>\n",
       "    <tr>\n",
       "      <th>4</th>\n",
       "      <td>2010-07-07</td>\n",
       "      <td>1.093333</td>\n",
       "      <td>1.108667</td>\n",
       "      <td>0.998667</td>\n",
       "      <td>1.053333</td>\n",
       "      <td>1.053333</td>\n",
       "      <td>103825500</td>\n",
       "    </tr>\n",
       "  </tbody>\n",
       "</table>\n",
       "</div>"
      ],
      "text/plain": [
       "         Date      Open      High       Low     Close  Adj Close     Volume\n",
       "0  2010-06-30  1.719333  2.028000  1.553333  1.588667   1.588667  257806500\n",
       "1  2010-07-01  1.666667  1.728000  1.351333  1.464000   1.464000  123282000\n",
       "2  2010-07-02  1.533333  1.540000  1.247333  1.280000   1.280000   77097000\n",
       "3  2010-07-06  1.333333  1.333333  1.055333  1.074000   1.074000  103003500\n",
       "4  2010-07-07  1.093333  1.108667  0.998667  1.053333   1.053333  103825500"
      ]
     },
     "execution_count": 369,
     "metadata": {},
     "output_type": "execute_result"
    }
   ],
   "source": [
    "# Leser data fra CSV-filen\n",
    "df = pd.read_csv('TSLAfull.csv')\n",
    "df.head()"
   ]
  },
  {
   "cell_type": "code",
   "execution_count": 370,
   "id": "accd9f01",
   "metadata": {},
   "outputs": [
    {
     "data": {
      "text/html": [
       "<div>\n",
       "<style scoped>\n",
       "    .dataframe tbody tr th:only-of-type {\n",
       "        vertical-align: middle;\n",
       "    }\n",
       "\n",
       "    .dataframe tbody tr th {\n",
       "        vertical-align: top;\n",
       "    }\n",
       "\n",
       "    .dataframe thead th {\n",
       "        text-align: right;\n",
       "    }\n",
       "</style>\n",
       "<table border=\"1\" class=\"dataframe\">\n",
       "  <thead>\n",
       "    <tr style=\"text-align: right;\">\n",
       "      <th></th>\n",
       "      <th>Date</th>\n",
       "      <th>Close</th>\n",
       "    </tr>\n",
       "  </thead>\n",
       "  <tbody>\n",
       "    <tr>\n",
       "      <th>0</th>\n",
       "      <td>735235</td>\n",
       "      <td>10.006667</td>\n",
       "    </tr>\n",
       "    <tr>\n",
       "      <th>1</th>\n",
       "      <td>735236</td>\n",
       "      <td>9.970667</td>\n",
       "    </tr>\n",
       "    <tr>\n",
       "      <th>2</th>\n",
       "      <td>735239</td>\n",
       "      <td>9.800000</td>\n",
       "    </tr>\n",
       "    <tr>\n",
       "      <th>3</th>\n",
       "      <td>735240</td>\n",
       "      <td>9.957333</td>\n",
       "    </tr>\n",
       "    <tr>\n",
       "      <th>4</th>\n",
       "      <td>735241</td>\n",
       "      <td>10.085333</td>\n",
       "    </tr>\n",
       "  </tbody>\n",
       "</table>\n",
       "</div>"
      ],
      "text/plain": [
       "     Date      Close\n",
       "0  735235  10.006667\n",
       "1  735236   9.970667\n",
       "2  735239   9.800000\n",
       "3  735240   9.957333\n",
       "4  735241  10.085333"
      ]
     },
     "execution_count": 370,
     "metadata": {},
     "output_type": "execute_result"
    }
   ],
   "source": [
    "# Leser data fra CSV-filen\n",
    "df = pd.read_csv('TSLA.csv')\n",
    "\n",
    "# Dropper NaN-oppføringer\n",
    "df.dropna(inplace=True)\n",
    "\n",
    "# Konverterer datokolonnen fra streng til flyttall\n",
    "df['Date'] = pd.to_datetime(df['Date'])\n",
    "df['Date'] = df['Date'].map(dt.datetime.toordinal)\n",
    "\n",
    "# Dropper unødvendige kolonner\n",
    "df_date_close = df.drop([\"Open\", \"High\", \"Low\", \"Adj Close\", \"Volume\"], axis=\"columns\")\n",
    "df_date_close.head()"
   ]
  },
  {
   "cell_type": "code",
   "execution_count": 371,
   "id": "817c4890",
   "metadata": {},
   "outputs": [],
   "source": [
    "# Deler dataene inn i trenings- og testsett\n",
    "train_data, test_data = train_test_split(df_date_close, test_size=0.2, random_state=42, shuffle=False)"
   ]
  },
  {
   "cell_type": "code",
   "execution_count": 372,
   "id": "9fe93ba2",
   "metadata": {},
   "outputs": [],
   "source": [
    "# Skill ut datokolonnen og aksjekurskolonnen for treningsdata\n",
    "train_date = train_data.drop(\"Close\", axis=\"columns\")\n",
    "train_close = train_data.drop(\"Date\", axis=\"columns\")"
   ]
  },
  {
   "cell_type": "code",
   "execution_count": 373,
   "id": "68578088",
   "metadata": {},
   "outputs": [
    {
     "data": {
      "text/html": [
       "<div>\n",
       "<style scoped>\n",
       "    .dataframe tbody tr th:only-of-type {\n",
       "        vertical-align: middle;\n",
       "    }\n",
       "\n",
       "    .dataframe tbody tr th {\n",
       "        vertical-align: top;\n",
       "    }\n",
       "\n",
       "    .dataframe thead th {\n",
       "        text-align: right;\n",
       "    }\n",
       "</style>\n",
       "<table border=\"1\" class=\"dataframe\">\n",
       "  <thead>\n",
       "    <tr style=\"text-align: right;\">\n",
       "      <th></th>\n",
       "      <th>Date</th>\n",
       "    </tr>\n",
       "  </thead>\n",
       "  <tbody>\n",
       "    <tr>\n",
       "      <th>1980</th>\n",
       "      <td>738105</td>\n",
       "    </tr>\n",
       "    <tr>\n",
       "      <th>1981</th>\n",
       "      <td>738106</td>\n",
       "    </tr>\n",
       "    <tr>\n",
       "      <th>1982</th>\n",
       "      <td>738109</td>\n",
       "    </tr>\n",
       "    <tr>\n",
       "      <th>1983</th>\n",
       "      <td>738110</td>\n",
       "    </tr>\n",
       "    <tr>\n",
       "      <th>1984</th>\n",
       "      <td>738111</td>\n",
       "    </tr>\n",
       "  </tbody>\n",
       "</table>\n",
       "</div>"
      ],
      "text/plain": [
       "        Date\n",
       "1980  738105\n",
       "1981  738106\n",
       "1982  738109\n",
       "1983  738110\n",
       "1984  738111"
      ]
     },
     "execution_count": 373,
     "metadata": {},
     "output_type": "execute_result"
    }
   ],
   "source": [
    "# Separer datokolonnen og aksjekurskolonnen for testdata\n",
    "test_close = test_data.drop(\"Date\", axis=\"columns\")\n",
    "test_date = test_data.drop(\"Close\", axis=\"columns\")\n",
    "test_date.head()"
   ]
  },
  {
   "cell_type": "code",
   "execution_count": 374,
   "id": "ec0115ed",
   "metadata": {},
   "outputs": [],
   "source": [
    "# Lineær regresjon på treningsdata\n",
    "reg_obj_train = linear_model.LinearRegression()\n",
    "reg_obj_train.fit(train_date.values, train_close.values)\n",
    "train_prediction = reg_obj_train.predict(train_date.values)\n"
   ]
  },
  {
   "cell_type": "code",
   "execution_count": 375,
   "id": "2ff51a9c",
   "metadata": {},
   "outputs": [
    {
     "data": {
      "text/plain": [
       "0   2014-01-02\n",
       "1   2014-01-03\n",
       "2   2014-01-06\n",
       "3   2014-01-07\n",
       "4   2014-01-08\n",
       "Name: Date, dtype: datetime64[ns]"
      ]
     },
     "execution_count": 375,
     "metadata": {},
     "output_type": "execute_result"
    }
   ],
   "source": [
    "# Konverterer datodager til dato for treningsdata\n",
    "train_date_dt = train_date['Date'].apply(dt.datetime.fromordinal)\n",
    "train_date_dt.head()"
   ]
  },
  {
   "cell_type": "code",
   "execution_count": 376,
   "id": "f5b75bbb",
   "metadata": {},
   "outputs": [
    {
     "data": {
      "text/plain": [
       "[<matplotlib.lines.Line2D at 0x1c86604ead0>]"
      ]
     },
     "execution_count": 376,
     "metadata": {},
     "output_type": "execute_result"
    },
    {
     "data": {
      "image/png": "[encoded data removed]",
      "text/plain": [
       "<Figure size 1200x600 with 1 Axes>"
      ]
     },
     "metadata": {},
     "output_type": "display_data"
    }
   ],
   "source": [
    "# Plot for visualisering av treningsdata og lineær regresjon\n",
    "plt.figure(figsize=(12, 6))\n",
    "plt.xlabel('Date', fontsize=14)\n",
    "plt.ylabel('Stockprice', fontsize=14)\n",
    "# Visuell representasjon av lineær ligning med lineær regresjon\n",
    "plt.scatter(train_date_dt, train_close, color='blue')\n",
    "plt.plot(train_date_dt, train_prediction, color='red')"
   ]
  },
  {
   "cell_type": "code",
   "execution_count": null,
   "id": "59b5c591",
   "metadata": {},
   "outputs": [],
   "source": []
  },
  {
   "cell_type": "code",
   "execution_count": 377,
   "id": "c182e9ec",
   "metadata": {},
   "outputs": [
    {
     "name": "stdout",
     "output_type": "stream",
     "text": [
      "<class 'pandas.core.series.Series'>\n",
      "Index: 495 entries, 1980 to 2474\n",
      "Series name: Date\n",
      "Non-Null Count  Dtype\n",
      "--------------  -----\n",
      "495 non-null    int64\n",
      "dtypes: int64(1)\n",
      "memory usage: 7.7 KB\n"
     ]
    }
   ],
   "source": [
    "test_prediction = reg_obj_train.predict(test_date.values)\n",
    "test_date['Date'].info()"
   ]
  },
  {
   "cell_type": "code",
   "execution_count": null,
   "id": "4dcd11cb",
   "metadata": {},
   "outputs": [],
   "source": []
  },
  {
   "cell_type": "code",
   "execution_count": 378,
   "id": "1323cb02",
   "metadata": {},
   "outputs": [
    {
     "name": "stdout",
     "output_type": "stream",
     "text": [
      "<class 'pandas.core.series.Series'>\n",
      "Index: 495 entries, 1980 to 2474\n",
      "Series name: Date\n",
      "Non-Null Count  Dtype         \n",
      "--------------  -----         \n",
      "495 non-null    datetime64[ns]\n",
      "dtypes: datetime64[ns](1)\n",
      "memory usage: 7.7 KB\n"
     ]
    }
   ],
   "source": [
    "# Konverterer datodager til dato for testdata\n",
    "test_date_dt = test_date['Date'].apply(dt.datetime.fromordinal)\n",
    "test_date_dt.info()"
   ]
  },
  {
   "cell_type": "code",
   "execution_count": 379,
   "id": "4e356220",
   "metadata": {},
   "outputs": [
    {
     "data": {
      "text/plain": [
       "[<matplotlib.lines.Line2D at 0x1c8679dead0>]"
      ]
     },
     "execution_count": 379,
     "metadata": {},
     "output_type": "execute_result"
    },
    {
     "data": {
      "image/png": "[encoded data removed]",
      "text/plain": [
       "<Figure size 3000x1000 with 1 Axes>"
      ]
     },
     "metadata": {},
     "output_type": "display_data"
    }
   ],
   "source": [
    "# Plot for visualisering av prediksjoner på testdatasettet\n",
    "plt.figure(figsize=(30, 10))\n",
    "plt.xlabel('Date', fontsize=25)\n",
    "plt.ylabel('Stockprice', fontsize=20)\n",
    "# Visuell representasjon av lineær ligning med lineær regresjon\n",
    "plt.scatter(test_date_dt, test_close, color='blue')\n",
    "plt.plot(test_date_dt, test_prediction, color='red')"
   ]
  },
  {
   "cell_type": "code",
   "execution_count": 380,
   "id": "617347f1",
   "metadata": {},
   "outputs": [],
   "source": [
    "# linear regression on training data\n",
    "reg_obj_train = linear_model.LinearRegression()\n",
    "reg_obj_train.fit(train_date.values, train_close.values)\n",
    "train_prediction = reg_obj_train.predict(train_date.values)\n",
    "\n",
    "# Converting int dates into DateTime for train_date\n",
    "train_date_dt = train_date['Date'].apply(dt.datetime.fromordinal)"
   ]
  },
  {
   "cell_type": "code",
   "execution_count": null,
   "id": "cfad4a61",
   "metadata": {},
   "outputs": [],
   "source": []
  },
  {
   "cell_type": "code",
   "execution_count": 381,
   "id": "c92f1381",
   "metadata": {},
   "outputs": [],
   "source": [
    "# Formaterer inngangsdatoen før prediksjonsalgoritmen\n",
    "input_date = dt.date(2016, 1, 1)\n",
    "input_od = input_date.toordinal()"
   ]
  },
  {
   "cell_type": "code",
   "execution_count": null,
   "id": "125ca870",
   "metadata": {},
   "outputs": [],
   "source": []
  },
  {
   "cell_type": "code",
   "execution_count": 382,
   "id": "ae82194d",
   "metadata": {},
   "outputs": [],
   "source": [
    "# Prediksjon av aksjekurs basert på inngangsdatoen\n",
    "output_train = reg_obj_train.predict([[input_od]])"
   ]
  },
  {
   "cell_type": "code",
   "execution_count": null,
   "id": "552aee08",
   "metadata": {},
   "outputs": [],
   "source": []
  },
  {
   "cell_type": "code",
   "execution_count": 383,
   "id": "a2dfe250",
   "metadata": {},
   "outputs": [],
   "source": [
    "# Formaterer inngangsdatoen og predikert aksjekurs før utskrift\n",
    "formated_date = input_date.strftime(\"%D\")\n",
    "formated_stockprice = str('%.10f' % output_train[0][0])"
   ]
  },
  {
   "cell_type": "code",
   "execution_count": null,
   "id": "1e577f4b",
   "metadata": {},
   "outputs": [],
   "source": []
  },
  {
   "cell_type": "code",
   "execution_count": 384,
   "id": "3ca92744",
   "metadata": {},
   "outputs": [
    {
     "name": "stdout",
     "output_type": "stream",
     "text": [
      "Predicted stock price for 01/01/16 is: 8.0649791047\n"
     ]
    }
   ],
   "source": [
    "# Utskrift av prediksjonen\n",
    "outputString = \"Predicted stock price for \" + formated_date + \" is: \" + formated_stockprice\n",
    "print(outputString)"
   ]
  },
  {
   "cell_type": "code",
   "execution_count": null,
   "id": "79949653",
   "metadata": {},
   "outputs": [],
   "source": []
  },
  {
   "cell_type": "code",
   "execution_count": 385,
   "id": "8ca2b3bb",
   "metadata": {},
   "outputs": [
    {
     "name": "stdout",
     "output_type": "stream",
     "text": [
      "Mean squared error for the Training Dataset: 3155.13\n"
     ]
    }
   ],
   "source": [
    "# Feil mellom linjen og faktiske verdier\n",
    "print('Mean squared error for the Training Dataset: %.2f'\n",
    "      % mean_squared_error(train_close, train_prediction))"
   ]
  },
  {
   "cell_type": "code",
   "execution_count": null,
   "id": "b6d52768",
   "metadata": {},
   "outputs": [],
   "source": []
  },
  {
   "cell_type": "code",
   "execution_count": 386,
   "id": "c41b2f3b",
   "metadata": {},
   "outputs": [
    {
     "name": "stdout",
     "output_type": "stream",
     "text": [
      "Coefficient of determination for the Training Dataset: 0.46\n"
     ]
    }
   ],
   "source": [
    "# Mål for hvor godt regresjonen passer dataene\n",
    "print('Coefficient of determination for the Training Dataset: %.2f'\n",
    "      % r2_score(train_close, train_prediction))\n"
   ]
  },
  {
   "cell_type": "code",
   "execution_count": null,
   "id": "7d4d0966",
   "metadata": {},
   "outputs": [],
   "source": []
  },
  {
   "cell_type": "code",
   "execution_count": null,
   "id": "6ee56106",
   "metadata": {},
   "outputs": [],
   "source": []
  },
  {
   "cell_type": "code",
   "execution_count": null,
   "id": "5ee9fa24",
   "metadata": {},
   "outputs": [],
   "source": []
  },
  {
   "cell_type": "code",
   "execution_count": null,
   "id": "9ec38469",
   "metadata": {},
   "outputs": [],
   "source": []
  },
  {
   "cell_type": "code",
   "execution_count": null,
   "id": "751c77b7",
   "metadata": {},
   "outputs": [],
   "source": []
  },
  {
   "cell_type": "code",
   "execution_count": null,
   "id": "62b7b8af",
   "metadata": {},
   "outputs": [],
   "source": []
  },
  {
   "cell_type": "code",
   "execution_count": null,
   "id": "3bd4035d",
   "metadata": {},
   "outputs": [],
   "source": []
  },
  {
   "cell_type": "code",
   "execution_count": null,
   "id": "94a15971",
   "metadata": {},
   "outputs": [],
   "source": []
  },
  {
   "cell_type": "code",
   "execution_count": null,
   "id": "86ee6a6d",
   "metadata": {},
   "outputs": [],
   "source": []
  },
  {
   "cell_type": "code",
   "execution_count": null,
   "id": "fc825a97",
   "metadata": {},
   "outputs": [],
   "source": []
  },
  {
   "cell_type": "code",
   "execution_count": null,
   "id": "a1002573",
   "metadata": {},
   "outputs": [],
   "source": []
  },
  {
   "cell_type": "code",
   "execution_count": null,
   "id": "26e704fc",
   "metadata": {},
   "outputs": [],
   "source": []
  }
 ],
 "metadata": {
  "kernelspec": {
   "display_name": "Python 3 (ipykernel)",
   "language": "python",
   "name": "python3"
  },
  "language_info": {
   "codemirror_mode": {
    "name": "ipython",
    "version": 3
   },
   "file_extension": ".py",
   "mimetype": "text/x-python",
   "name": "python",
   "nbconvert_exporter": "python",
   "pygments_lexer": "ipython3",
   "version": "3.11.5"
  }
 },
 "nbformat": 4,
 "nbformat_minor": 5
}
