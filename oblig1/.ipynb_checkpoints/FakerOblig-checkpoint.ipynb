{
 "cells": [
  {
   "cell_type": "markdown",
   "id": "451d5021",
   "metadata": {},
   "source": [
    "## Importing Libraries\n",
    "\n",
    "In this section of the code, we are importing the necessary Python libraries for our analysis.\n",
    "\n",
    "- **Pandas**: Pandas is a data analysis library that provides structures and functions for working with structured data, such as dataframes.\n",
    "\n",
    "- **NumPy**: NumPy is a library for numerical computation in Python, providing support for large, multi-dimensional arrays and mathematical functionality.\n",
    "\n",
    "- **Matplotlib**: Matplotlib is a Python library for data visualization. It is used to create graphs, charts, and plots.\n",
    "\n",
    "- **Datetime**: Datetime is a built-in Python library used for working with dates and timestamps."
   ]
  },
  {
   "cell_type": "code",
   "execution_count": 10,
   "id": "cbc0db21",
   "metadata": {},
   "outputs": [],
   "source": [
    "\n",
    "%matplotlib inline\n",
    "import pandas as pd\n",
    "import numpy as np\n",
    "import matplotlib.pyplot as plt\n",
    "import datetime\n"
   ]
  },
  {
   "cell_type": "markdown",
   "id": "4bac4bc7",
   "metadata": {},
   "source": [
    "## Importing Libraries\n",
    "\n",
    "In this section of the code, we are importing additional libraries and modules needed for our analysis.\n",
    "\n",
    "- **Faker**: Faker is a Python library that allows you to generate fake data, such as names, addresses, social security numbers, and more. We will use it to create synthetic data for our analysis.\n",
    "\n",
    "- **Pandas**: We import the Pandas library again, as it's used for data manipulation and storage.\n",
    "\n",
    "- **CreditCardProvider**: This is a specific provider from the Faker library that allows us to generate fake credit card numbers. We're importing it to use in our data generation."
   ]
  },
  {
   "cell_type": "code",
   "execution_count": 1,
   "id": "168a6af4",
   "metadata": {},
   "outputs": [],
   "source": [
    "from faker import Faker\n",
    "import pandas as pd\n",
    "#from laundromat.spacy.spacy_model import SpacyModel (not working I try everything)\n",
    "from faker.providers.credit_card import Provider as CreditCardProvider ##Add creditcards to faker"
   ]
  },
  {
   "cell_type": "markdown",
   "id": "f440b9b0",
   "metadata": {},
   "source": [
    "## Creating a Faker Generator\n",
    "\n",
    "In this part of the code, we are creating a Faker generator with Norwegian (no_NO) language settings. This means that any fake data generated using this generator will have Norwegian names and structures.\n",
    "\n",
    "- **Faker Generator**: We create an instance of the Faker generator and specify the language as 'no_NO' to ensure Norwegian-style data.\n",
    "\n",
    "### Kode\n",
    "```python\n",
    "fake = Faker(['no_NO'])  # Opprett en instans av Faker med norske navn og strukturer\n",
    "\n",
    "# Følgende kall til Faker vil bli brukt:\n",
    "- **fake.name()**  # Genererer et falskt navn\n",
    "- **fake.address()**  # Genererer en falsk adresse\n",
    "- **fake.ssn()**  # Genererer et falskt personnummer \n",
    "- **fake.credit_card_number()**  # Genererer et falskt kredittkortnummer\n",
    "- **fake.ipv4()**  # Genererer en falsk IPv4-adresse"
   ]
  },
  {
   "cell_type": "code",
   "execution_count": 2,
   "id": "4782b3c9",
   "metadata": {},
   "outputs": [
    {
     "data": {
      "text/plain": [
       "('Sebastian Dahl',\n",
       " 'Haugevollen 2, 2954 Ruthsjøen',\n",
       " '20123327536',\n",
       " '3501376432902296',\n",
       " '7.213.218.112')"
      ]
     },
     "execution_count": 2,
     "metadata": {},
     "output_type": "execute_result"
    }
   ],
   "source": [
    "fake = Faker(['no_NO']) #create a faker with norwgian Name and structures\n",
    "\n",
    "#faker calls you will need:\n",
    "fake.name(),fake.address(),fake.ssn(),fake.credit_card_number(),fake.ipv4()"
   ]
  },
  {
   "cell_type": "markdown",
   "id": "9c9dd8a5",
   "metadata": {},
   "source": [
    "## Creating an Empty DataFrame\n",
    "\n",
    "In this section of the code, we are creating an empty DataFrame named `df` with specified column names: 'Navn' (Name), 'Adresse' (Address), 'PersonNr' (Social Security Number), 'CreditCard' (Credit Card Number), and 'ipv4' (IPv4 Address). This DataFrame will be used to store the synthetic data generated using the Faker library.\n",
    "\n",
    "- **Empty DataFrame**: We initialize an empty DataFrame with no rows but with columns defined.\n",
    "\n",
    "```python\n",
    "df = pd.DataFrame(columns=['Navn', 'Adresse', 'PersonNr', 'CreditCard', 'ipv4'])\n"
   ]
  },
  {
   "cell_type": "code",
   "execution_count": 3,
   "id": "d9bccd53",
   "metadata": {},
   "outputs": [
    {
     "data": {
      "text/html": [
       "<div>\n",
       "<style scoped>\n",
       "    .dataframe tbody tr th:only-of-type {\n",
       "        vertical-align: middle;\n",
       "    }\n",
       "\n",
       "    .dataframe tbody tr th {\n",
       "        vertical-align: top;\n",
       "    }\n",
       "\n",
       "    .dataframe thead th {\n",
       "        text-align: right;\n",
       "    }\n",
       "</style>\n",
       "<table border=\"1\" class=\"dataframe\">\n",
       "  <thead>\n",
       "    <tr style=\"text-align: right;\">\n",
       "      <th></th>\n",
       "      <th>Navn</th>\n",
       "      <th>Adresse</th>\n",
       "      <th>PersonNr</th>\n",
       "      <th>CreditCard</th>\n",
       "      <th>ipv4</th>\n",
       "    </tr>\n",
       "  </thead>\n",
       "  <tbody>\n",
       "  </tbody>\n",
       "</table>\n",
       "</div>"
      ],
      "text/plain": [
       "Empty DataFrame\n",
       "Columns: [Navn, Adresse, PersonNr, CreditCard, ipv4]\n",
       "Index: []"
      ]
     },
     "execution_count": 3,
     "metadata": {},
     "output_type": "execute_result"
    }
   ],
   "source": [
    "#create a empty data frame \n",
    "\n",
    "df = pd.DataFrame(columns=['Navn','Adresse', 'PersonNr','CreditCard','ipv4']) \n",
    "df"
   ]
  },
  {
   "cell_type": "markdown",
   "id": "ba6e3681",
   "metadata": {},
   "source": [
    "## Adding Data to a DataFrame in a For Loop\n",
    "\n",
    "In this block of the code, we are generating synthetic data using the Faker library and adding it to the previously created DataFrame (`df`) in a loop. We repeat the process 100 times to create 100 fake records.\n",
    "\n",
    "- **For Loop**: We use a `for` loop to generate 100 fake individuals. The loop runs 100 times, and in each iteration, we create a set of fake data for an individual."
   ]
  },
  {
   "cell_type": "code",
   "execution_count": 4,
   "id": "3356634b",
   "metadata": {},
   "outputs": [],
   "source": [
    "#how to add data to a data frame in a for loop:\n",
    "# \n",
    "for _ in range(100):  # Opprett 100 faker-personer\n",
    "    name = fake.name()\n",
    "    address = fake.address()\n",
    "    ssn = fake.ssn()\n",
    "    credit_card_number = fake.credit_card_number()\n",
    "    ipv4 = fake.ipv4()\n",
    "\n",
    "    # Legg til data i DataFrame\n",
    "    df.loc[len(df)] = [name, address, ssn, credit_card_number, ipv4]"
   ]
  },
  {
   "cell_type": "markdown",
   "id": "36c97712",
   "metadata": {},
   "source": [
    "## Displaying the First 3 Rows of the DataFrame\n",
    "\n",
    "We are displaying the first three rows of the DataFrame `df` to provide a preview of the generated synthetic data.\n",
    "\n",
    "### DataFrame Head\n",
    "The `df.head(3)` command is used to retrieve the first three rows of the DataFrame. This allows us to inspect the initial records in the DataFrame.\n",
    "\n",
    "|   | Navn             | Adresse                     | PersonNr     | CreditCard       | ipv4          |\n",
    "|---|------------------|-----------------------------|--------------|------------------|---------------|\n",
    "| 0 | Tonje Jakobsen   | Jensengropa 2, 6819 Holm     | 20088504942  | 2224781078087591 | 10.116.161.189 |\n",
    "| 1 | Tonje Gulbrandsen| Dahlkollen 843, 6903 Moe    | 03097043395  | 3538278583919185 | 72.248.37.227  |\n",
    "| 2 | Egil Eide        | Jenssenstykket 87, 2211 Ruud | 01039939009  | 4101480005117    | 36.81.220.15   |\n",
    "\n",
    "The table above shows the first three rows of the DataFrame `df`, with each row representing fake data for an individual. The columns include 'Navn' (Name), 'Adresse' (Address), 'PersonNr' (Social Security Number), 'CreditCard' (Credit Card Number), and 'ipv4' (IPv4 Address).\n",
    "\n",
    "This display provides a quick overview of the generated synthetic data and its structure."
   ]
  },
  {
   "cell_type": "code",
   "execution_count": 5,
   "id": "b43c9ec4",
   "metadata": {},
   "outputs": [
    {
     "data": {
      "text/html": [
       "<div>\n",
       "<style scoped>\n",
       "    .dataframe tbody tr th:only-of-type {\n",
       "        vertical-align: middle;\n",
       "    }\n",
       "\n",
       "    .dataframe tbody tr th {\n",
       "        vertical-align: top;\n",
       "    }\n",
       "\n",
       "    .dataframe thead th {\n",
       "        text-align: right;\n",
       "    }\n",
       "</style>\n",
       "<table border=\"1\" class=\"dataframe\">\n",
       "  <thead>\n",
       "    <tr style=\"text-align: right;\">\n",
       "      <th></th>\n",
       "      <th>Navn</th>\n",
       "      <th>Adresse</th>\n",
       "      <th>PersonNr</th>\n",
       "      <th>CreditCard</th>\n",
       "      <th>ipv4</th>\n",
       "    </tr>\n",
       "  </thead>\n",
       "  <tbody>\n",
       "    <tr>\n",
       "      <th>0</th>\n",
       "      <td>Tonje Jakobsen</td>\n",
       "      <td>Jensengropa 2, 6819 Holm</td>\n",
       "      <td>20088504942</td>\n",
       "      <td>2224781078087591</td>\n",
       "      <td>10.116.161.189</td>\n",
       "    </tr>\n",
       "    <tr>\n",
       "      <th>1</th>\n",
       "      <td>Tonje Gulbrandsen</td>\n",
       "      <td>Dahlkollen 843, 6903 Moe</td>\n",
       "      <td>03097043395</td>\n",
       "      <td>3538278583919185</td>\n",
       "      <td>72.248.37.227</td>\n",
       "    </tr>\n",
       "    <tr>\n",
       "      <th>2</th>\n",
       "      <td>Egil Eide</td>\n",
       "      <td>Jenssenstykket 87, 2211 Ruud</td>\n",
       "      <td>01039939009</td>\n",
       "      <td>4101480005117</td>\n",
       "      <td>36.81.220.15</td>\n",
       "    </tr>\n",
       "  </tbody>\n",
       "</table>\n",
       "</div>"
      ],
      "text/plain": [
       "                Navn                       Adresse     PersonNr  \\\n",
       "0     Tonje Jakobsen      Jensengropa 2, 6819 Holm  20088504942   \n",
       "1  Tonje Gulbrandsen      Dahlkollen 843, 6903 Moe  03097043395   \n",
       "2          Egil Eide  Jenssenstykket 87, 2211 Ruud  01039939009   \n",
       "\n",
       "         CreditCard            ipv4  \n",
       "0  2224781078087591  10.116.161.189  \n",
       "1  3538278583919185   72.248.37.227  \n",
       "2     4101480005117    36.81.220.15  "
      ]
     },
     "execution_count": 5,
     "metadata": {},
     "output_type": "execute_result"
    }
   ],
   "source": [
    "df.head(3)"
   ]
  },
  {
   "cell_type": "code",
   "execution_count": null,
   "id": "ea70014a",
   "metadata": {},
   "outputs": [],
   "source": []
  },
  {
   "cell_type": "code",
   "execution_count": null,
   "id": "aab4c51c",
   "metadata": {},
   "outputs": [],
   "source": []
  },
  {
   "cell_type": "code",
   "execution_count": null,
   "id": "8eb6c8ea",
   "metadata": {
    "collapsed": true
   },
   "outputs": [],
   "source": [
    "                      "
   ]
  }
 ],
 "metadata": {
  "kernelspec": {
   "display_name": "Python 3 (ipykernel)",
   "language": "python",
   "name": "python3"
  },
  "language_info": {
   "codemirror_mode": {
    "name": "ipython",
    "version": 3
   },
   "file_extension": ".py",
   "mimetype": "text/x-python",
   "name": "python",
   "nbconvert_exporter": "python",
   "pygments_lexer": "ipython3",
   "version": "3.8.18"
  }
 },
 "nbformat": 4,
 "nbformat_minor": 5
}
